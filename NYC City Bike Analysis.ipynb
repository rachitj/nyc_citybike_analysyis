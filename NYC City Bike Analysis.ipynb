{
 "cells": [
  {
   "cell_type": "markdown",
   "metadata": {},
   "source": [
    "# NYC CITY BIKE ANALYSIS FOR 2016-17"
   ]
  },
  {
   "cell_type": "markdown",
   "metadata": {},
   "source": [
    "## Importing libraries"
   ]
  },
  {
   "cell_type": "code",
   "execution_count": 1,
   "metadata": {},
   "outputs": [],
   "source": [
    "import numpy as np\n",
    "import pandas as pd\n",
    "import matplotlib.pyplot as plt\n",
    "import seaborn as sns\n",
    "import pyodbc \n",
    "\n",
    "pd.set_option(\"display.max_columns\",30)\n",
    "pd.set_option(\"display.max_rows\",200)"
   ]
  },
  {
   "cell_type": "markdown",
   "metadata": {},
   "source": [
    "## Load Dataset"
   ]
  },
  {
   "cell_type": "code",
   "execution_count": 2,
   "metadata": {},
   "outputs": [],
   "source": [
    "server = 'LAPTOP-9D2D5CCL' \n",
    "database = 'data_science' \n",
    "conn_str = (\n",
    "    r'Driver=SQL Server;'\n",
    "    r'Server=LAPTOP-9D2D5CCL;'\n",
    "    r'Database=data_science;'\n",
    "    r'Trusted_Connection=yes;'\n",
    "    )\n",
    "cnxn = pyodbc.connect(conn_str)\n",
    "cursor = cnxn.cursor()\n",
    "# select data from SQL table to insert in dataframe.\n",
    "\n",
    "# df = pd.read_sql(query, cnxn)\n",
    "# print(df.head(10))"
   ]
  },
  {
   "cell_type": "code",
   "execution_count": 3,
   "metadata": {},
   "outputs": [],
   "source": [
    "query_1 = \"Select  * from [dbo].[citibike_tripdata_daily_fact] where year_name = 2016;\"\n",
    "df_chunks_1 = pd.read_sql_query(query_1, cnxn, chunksize=1000000)\n",
    "def chunks_to_df(gen):\n",
    "    chunks = []\n",
    "    for df1 in gen:\n",
    "        chunks.append(df1)\n",
    "    return pd.concat(chunks).reset_index().drop('index', axis=1)\n",
    "\n",
    "df1 = chunks_to_df(df_chunks_1)"
   ]
  },
  {
   "cell_type": "code",
   "execution_count": 4,
   "metadata": {},
   "outputs": [
    {
     "name": "stdout",
     "output_type": "stream",
     "text": [
      "Shape of data:  (12680301, 19)\n"
     ]
    }
   ],
   "source": [
    "print(\"Shape of data: \", df1.shape)"
   ]
  },
  {
   "cell_type": "code",
   "execution_count": null,
   "metadata": {},
   "outputs": [],
   "source": [
    "query_2 = \"Select  * from [dbo].[citibike_tripdata_daily_fact] where year_name = 2017;\"\n",
    "df_chunks_2 = pd.read_sql_query(query_2, cnxn, chunksize=1000000)\n",
    "def chunks_to_df(gen):\n",
    "    chunks = []\n",
    "    for df2 in gen:\n",
    "        chunks.append(df2)\n",
    "    return pd.concat(chunks).reset_index().drop('index', axis=1)\n",
    "\n",
    "df2 = chunks_to_df(df_chunks_2)"
   ]
  },
  {
   "cell_type": "code",
   "execution_count": 7,
   "metadata": {},
   "outputs": [
    {
     "name": "stdout",
     "output_type": "stream",
     "text": [
      "Shape of data:  (12680301, 19)\n",
      "Shape of data:  (15076395, 19)\n"
     ]
    }
   ],
   "source": [
    "print(\"Shape of data: \", df1.shape)\n",
    "print(\"Shape of data: \", df2.shape)"
   ]
  },
  {
   "cell_type": "code",
   "execution_count": 8,
   "metadata": {},
   "outputs": [],
   "source": [
    "df = pd.concat([df1, df2])\n",
    "\n",
    "# Set id as index\n",
    "df = df.set_index(\"id\")\n",
    "data = df.copy"
   ]
  },
  {
   "cell_type": "code",
   "execution_count": null,
   "metadata": {},
   "outputs": [],
   "source": [
    "print(\"Shape of data: \", df.shape)"
   ]
  },
  {
   "cell_type": "code",
   "execution_count": null,
   "metadata": {},
   "outputs": [],
   "source": [
    "df.describe()"
   ]
  },
  {
   "cell_type": "markdown",
   "metadata": {},
   "source": [
    "## Exploratory Data Analysis"
   ]
  },
  {
   "cell_type": "code",
   "execution_count": null,
   "metadata": {},
   "outputs": [],
   "source": [
    "df.info()"
   ]
  },
  {
   "cell_type": "code",
   "execution_count": null,
   "metadata": {},
   "outputs": [],
   "source": [
    "# Finding numeric data types\n",
    "df.select_dtypes(include = ['int64','float64']).columns"
   ]
  },
  {
   "cell_type": "code",
   "execution_count": null,
   "metadata": {},
   "outputs": [],
   "source": [
    "# Finding object data types\n",
    "df.select_dtypes(include = ['object']).columns"
   ]
  },
  {
   "cell_type": "code",
   "execution_count": null,
   "metadata": {},
   "outputs": [],
   "source": [
    "df.info()"
   ]
  },
  {
   "cell_type": "code",
   "execution_count": null,
   "metadata": {},
   "outputs": [],
   "source": [
    "df.head(10)"
   ]
  },
  {
   "cell_type": "markdown",
   "metadata": {},
   "source": [
    "### Handling Missing Values"
   ]
  },
  {
   "cell_type": "code",
   "execution_count": null,
   "metadata": {},
   "outputs": [],
   "source": [
    "# Replace null age with meen\n",
    "df['age'] = df['age'] .fillna((df['age'] .mean()))"
   ]
  },
  {
   "cell_type": "code",
   "execution_count": null,
   "metadata": {},
   "outputs": [],
   "source": [
    "df['age'].isnull().sum()"
   ]
  },
  {
   "cell_type": "code",
   "execution_count": null,
   "metadata": {},
   "outputs": [],
   "source": [
    "df.head(10)"
   ]
  },
  {
   "cell_type": "code",
   "execution_count": null,
   "metadata": {},
   "outputs": [],
   "source": [
    "# Get the percentage of null values for each column\n",
    "null_percent  = df.isnull().sum()/df.shape[0]*100\n",
    "null_percent"
   ]
  },
  {
   "cell_type": "code",
   "execution_count": null,
   "metadata": {},
   "outputs": [],
   "source": [
    "#  Replace Null values of usertype with mode\n",
    "df['usertype'] = df['usertype'] .fillna((df['usertype'] .mode()[0]))\n",
    "# Get the percentage of null values for each column\n",
    "null_percent_usertype  = df['usertype'].isnull().sum()/df['usertype'].shape[0]*100\n",
    "null_percent_usertype"
   ]
  },
  {
   "cell_type": "code",
   "execution_count": null,
   "metadata": {},
   "outputs": [],
   "source": [
    "df.columns"
   ]
  },
  {
   "cell_type": "markdown",
   "metadata": {},
   "source": [
    "### Checking Unique Values"
   ]
  },
  {
   "cell_type": "code",
   "execution_count": null,
   "metadata": {},
   "outputs": [],
   "source": [
    "for i in df[['year_name', 'month_name', 'trip_start_date', 'gender', 'age',\n",
    "       'is_weekend', 'usertype', 'start_station_id', 'start_station_name',\n",
    "       'end_station_id', 'end_station_name']] :\n",
    "    print(i + \"\\t\" + str(len(df[i].unique())))"
   ]
  },
  {
   "cell_type": "code",
   "execution_count": null,
   "metadata": {},
   "outputs": [],
   "source": [
    "# find unique values of each column\n",
    "for i in df[['year_name', 'month_name', 'trip_start_date', 'gender', 'age',\n",
    "       'is_weekend', 'usertype', 'start_station_id', 'start_station_name',\n",
    "       'end_station_id', 'end_station_name']] :\n",
    "    print ( \"Unique value of : >>> {} ({}) \\n{} \\n\".format(i,len(df[i].unique()),df[i].unique()))"
   ]
  },
  {
   "cell_type": "markdown",
   "metadata": {},
   "source": [
    "## Outliers Treatment"
   ]
  },
  {
   "cell_type": "markdown",
   "metadata": {},
   "source": [
    "### Outliers for Age"
   ]
  },
  {
   "cell_type": "code",
   "execution_count": null,
   "metadata": {},
   "outputs": [],
   "source": [
    "# Plot the distplot of Age\n",
    "plt.figure(figsize = (10,8))\n",
    "bar = sns.distplot(df['age'])\n",
    "bar.legend([\"Skewness: {:.2f}\".format(df['age'].skew())])"
   ]
  },
  {
   "cell_type": "markdown",
   "metadata": {},
   "source": [
    " As in evident from graph, most users are aged 40 while the age ranges from 16 to 80. Data points rangung from 80 to 160 are outliers and can be representing bad data. Age can't be 160 for a rider. Hence we will find out the data points above age 80 and treat the outliers."
   ]
  },
  {
   "cell_type": "code",
   "execution_count": null,
   "metadata": {},
   "outputs": [],
   "source": [
    "df[df['age']>80]['age'].value_counts().sort_values"
   ]
  },
  {
   "cell_type": "code",
   "execution_count": null,
   "metadata": {},
   "outputs": [],
   "source": [
    "df[df['age']<=80]['age'].value_counts().sort_values"
   ]
  },
  {
   "cell_type": "markdown",
   "metadata": {},
   "source": [
    "We can see that for age 80-85, trips are in the range of 1000-2000. Hence for all ages above 80, we will treat them as age 80"
   ]
  },
  {
   "cell_type": "code",
   "execution_count": null,
   "metadata": {},
   "outputs": [],
   "source": [
    "df.loc[(df.age > 80),'age'] = 80"
   ]
  },
  {
   "cell_type": "code",
   "execution_count": null,
   "metadata": {},
   "outputs": [],
   "source": [
    "df[df['age']>=79]['age'].value_counts().sort_values"
   ]
  },
  {
   "cell_type": "markdown",
   "metadata": {},
   "source": [
    "## Analyze Monthly Data"
   ]
  },
  {
   "cell_type": "code",
   "execution_count": null,
   "metadata": {},
   "outputs": [],
   "source": [
    "month_group = df.groupby(['year_name','month_name'])\n",
    "year_group = df.groupby(['year_name'])\n",
    "pd.set_option('display.float_format', lambda x: '%.5f' % x)"
   ]
  },
  {
   "cell_type": "markdown",
   "metadata": {},
   "source": [
    "### Top 5 Destinations By Year"
   ]
  },
  {
   "cell_type": "code",
   "execution_count": null,
   "metadata": {},
   "outputs": [],
   "source": [
    "year_group['end_station_name'].value_counts(normalize = True)"
   ]
  },
  {
   "cell_type": "markdown",
   "metadata": {},
   "source": [
    "### Top 5 Starting Stations By Year"
   ]
  },
  {
   "cell_type": "code",
   "execution_count": null,
   "metadata": {},
   "outputs": [],
   "source": [
    "year_group['start_station_name'].value_counts(normalize = True)"
   ]
  },
  {
   "cell_type": "markdown",
   "metadata": {},
   "source": [
    "### Top 5 Destinations By Year and Month"
   ]
  },
  {
   "cell_type": "code",
   "execution_count": null,
   "metadata": {},
   "outputs": [],
   "source": [
    "month_group['end_station_name'].value_counts(normalize = True)"
   ]
  },
  {
   "cell_type": "markdown",
   "metadata": {},
   "source": [
    "###  Bikes Used in a day By Year"
   ]
  },
  {
   "cell_type": "code",
   "execution_count": null,
   "metadata": {},
   "outputs": [],
   "source": [
    "year_group['cnt_bike'].agg(['max','min','mean'])"
   ]
  },
  {
   "cell_type": "markdown",
   "metadata": {},
   "source": [
    "###  Bikes Used in a day By Month and Year"
   ]
  },
  {
   "cell_type": "code",
   "execution_count": null,
   "metadata": {},
   "outputs": [],
   "source": [
    "month_group['cnt_bike'].agg(['max','min','mean'])"
   ]
  },
  {
   "cell_type": "markdown",
   "metadata": {},
   "source": [
    "###  Trips Taken in a single day By Year"
   ]
  },
  {
   "cell_type": "code",
   "execution_count": null,
   "metadata": {},
   "outputs": [],
   "source": [
    "year_group['cnt_trips'].agg(['max','min','mean'])"
   ]
  },
  {
   "cell_type": "code",
   "execution_count": null,
   "metadata": {},
   "outputs": [],
   "source": [
    "df['year_name'].value_counts()"
   ]
  },
  {
   "cell_type": "markdown",
   "metadata": {},
   "source": [
    "###  Trips Taken in a day By Month and Year"
   ]
  },
  {
   "cell_type": "code",
   "execution_count": null,
   "metadata": {},
   "outputs": [],
   "source": [
    "month_group['cnt_trips'].agg(['max','min','mean'])"
   ]
  },
  {
   "cell_type": "markdown",
   "metadata": {},
   "source": [
    "# KPIs By Year"
   ]
  },
  {
   "cell_type": "code",
   "execution_count": null,
   "metadata": {},
   "outputs": [],
   "source": [
    "df.groupby(\n",
    "   ['year_name']\n",
    ").agg(\n",
    "    {\n",
    "         'cnt_trips':[min, max, sum, 'mean'],   \n",
    "         'cnt_bike': [min, max, sum, 'mean'],  \n",
    "         'avg_trip_dur_min': [min, max, sum, 'mean'] , \n",
    "         'avg_dist_km':  [min, max, sum, 'mean'] ,\n",
    "         'speed_mps' :  [min, max, sum, 'mean'] ,\n",
    "        'total_dist_km' :  [min, max, sum, 'mean'] ,\n",
    "        'total_tripduration_min' : [min, max, sum, 'mean']\n",
    "    }\n",
    ")"
   ]
  },
  {
   "cell_type": "markdown",
   "metadata": {},
   "source": [
    "### KPIs By Year and Month"
   ]
  },
  {
   "cell_type": "code",
   "execution_count": null,
   "metadata": {},
   "outputs": [],
   "source": [
    "df.groupby(\n",
    "   ['month_name','year_name']\n",
    ").agg(\n",
    "    {\n",
    "         'cnt_trips':[min, max, sum, 'mean'],   \n",
    "         'cnt_bike': [min, max, sum, 'mean'],  \n",
    "         'avg_trip_dur_min': [min, max, sum, 'mean'] , \n",
    "         'avg_dist_km':  [min, max, sum, 'mean'] ,\n",
    "         'speed_mps' :  [min, max, sum, 'mean'] ,\n",
    "        'total_dist_km' :  [min, max, sum, 'mean'] ,\n",
    "        'total_tripduration_min' : [min, max, sum, 'mean']\n",
    "    }\n",
    ")"
   ]
  },
  {
   "cell_type": "markdown",
   "metadata": {},
   "source": [
    "### KPIs By Year : Weekend Analysis\n"
   ]
  },
  {
   "cell_type": "code",
   "execution_count": null,
   "metadata": {},
   "outputs": [],
   "source": [
    "df.groupby(\n",
    "   ['year_name','is_weekend']\n",
    ").agg(\n",
    "    {\n",
    "         'cnt_trips':[min, max, sum, 'mean'],   \n",
    "         'cnt_bike': [min, max, sum, 'mean'],  \n",
    "         'avg_trip_dur_min': [min, max, sum, 'mean'] , \n",
    "         'avg_dist_km':  [min, max, sum, 'mean'] ,\n",
    "         'speed_mps' :  [min, max, sum, 'mean'] ,\n",
    "        'total_dist_km' :  [min, max, sum, 'mean'] ,\n",
    "        'total_tripduration_min' : [min, max, sum, 'mean']\n",
    "    }\n",
    ")"
   ]
  },
  {
   "cell_type": "markdown",
   "metadata": {},
   "source": [
    "# KPIs By Year and Month : Weekend Analysis\n"
   ]
  },
  {
   "cell_type": "code",
   "execution_count": null,
   "metadata": {
    "scrolled": true
   },
   "outputs": [],
   "source": [
    "df.groupby(\n",
    "   ['month_name','year_name','is_weekend']\n",
    ").agg(\n",
    "    {\n",
    "         'cnt_trips':[min, max, sum, 'mean'],   \n",
    "         'cnt_bike': [min, max, sum, 'mean'],  \n",
    "         'avg_trip_dur_min': [min, max, sum, 'mean'] , \n",
    "         'avg_dist_km':  [min, max, sum, 'mean'] ,\n",
    "         'speed_mps' :  [min, max, sum, 'mean'] ,\n",
    "        'total_dist_km' :  [min, max, sum, 'mean'] ,\n",
    "        'total_tripduration_min' : [min, max, sum, 'mean']\n",
    "    }\n",
    ")"
   ]
  },
  {
   "cell_type": "markdown",
   "metadata": {},
   "source": [
    "### KPIs By Year : Age Analysis\n"
   ]
  },
  {
   "cell_type": "code",
   "execution_count": null,
   "metadata": {},
   "outputs": [],
   "source": [
    "df.groupby(\n",
    "   ['year_name','age']\n",
    ").agg(\n",
    "    {\n",
    "         'cnt_trips':[min, max, sum, 'mean'],   \n",
    "         'cnt_bike': [min, max, sum, 'mean'],  \n",
    "         'avg_trip_dur_min': [min, max, sum, 'mean'] , \n",
    "         'avg_dist_km':  [min, max, sum, 'mean'] ,\n",
    "         'speed_mps' :  [min, max, sum, 'mean'] ,\n",
    "        'total_dist_km' :  [min, max, sum, 'mean'] ,\n",
    "        'total_tripduration_min' : [min, max, sum, 'mean']\n",
    "    }\n",
    ")"
   ]
  },
  {
   "cell_type": "markdown",
   "metadata": {},
   "source": [
    "# KPIs By Year and Month : Age Analysis"
   ]
  },
  {
   "cell_type": "code",
   "execution_count": null,
   "metadata": {},
   "outputs": [],
   "source": [
    "df.groupby(\n",
    "   ['month_name','year_name','age']\n",
    ").agg(\n",
    "    {\n",
    "         'cnt_trips':[min, max, sum, 'mean'],   \n",
    "         'cnt_bike': [min, max, sum, 'mean'],  \n",
    "         'avg_trip_dur_min': [min, max, sum, 'mean'] , \n",
    "         'avg_dist_km':  [min, max, sum, 'mean'] ,\n",
    "         'speed_mps' :  [min, max, sum, 'mean'] ,\n",
    "        'total_dist_km' :  [min, max, sum, 'mean'] ,\n",
    "        'total_tripduration_min' : [min, max, sum, 'mean']\n",
    "    }\n",
    ")"
   ]
  },
  {
   "cell_type": "code",
   "execution_count": null,
   "metadata": {},
   "outputs": [],
   "source": []
  }
 ],
 "metadata": {
  "kernelspec": {
   "display_name": "Python 3",
   "language": "python",
   "name": "python3"
  },
  "language_info": {
   "codemirror_mode": {
    "name": "ipython",
    "version": 3
   },
   "file_extension": ".py",
   "mimetype": "text/x-python",
   "name": "python",
   "nbconvert_exporter": "python",
   "pygments_lexer": "ipython3",
   "version": "3.8.5"
  }
 },
 "nbformat": 4,
 "nbformat_minor": 4
}
